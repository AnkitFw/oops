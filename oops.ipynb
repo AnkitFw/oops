{
  "nbformat": 4,
  "nbformat_minor": 0,
  "metadata": {
    "colab": {
      "provenance": [],
      "authorship_tag": "ABX9TyPu2E8M1oT3liG+slQB+U5T",
      "include_colab_link": true
    },
    "kernelspec": {
      "name": "python3",
      "display_name": "Python 3"
    },
    "language_info": {
      "name": "python"
    }
  },
  "cells": [
    {
      "cell_type": "markdown",
      "metadata": {
        "id": "view-in-github",
        "colab_type": "text"
      },
      "source": [
        "<a href=\"https://colab.research.google.com/github/AnkitFw/oops/blob/main/oops.ipynb\" target=\"_parent\"><img src=\"https://colab.research.google.com/assets/colab-badge.svg\" alt=\"Open In Colab\"/></a>"
      ]
    },
    {
      "cell_type": "code",
      "execution_count": null,
      "metadata": {
        "colab": {
          "base_uri": "https://localhost:8080/"
        },
        "id": "ZDNxhLFq-JPJ",
        "outputId": "6c377e45-9602-4098-87dc-46450f152eb2"
      },
      "outputs": [
        {
          "output_type": "stream",
          "name": "stdout",
          "text": [
            "hello\n"
          ]
        }
      ],
      "source": [
        "print(\"hello\")"
      ]
    },
    {
      "cell_type": "code",
      "source": [
        "# state- set of property values stored in an object.Change in state -> means change in the propety value, State change depends upon the function run.\n",
        "###  sequences of topics in oops(Python)\n",
        "# Main Aspects of OOPs-:\n",
        "#Defining a class\n",
        "# creating objects\n",
        "#Instance Objects and class objects\n",
        "#init methon\n",
        "# Encapsulation ->  Grouping of properties and behaviours of an entity is called Encapsulation\n",
        "##class name:\n",
        "  # variables and Functions.\n",
        "class Test:\n",
        "  x=5     # x and y are class object vaiables.\n",
        "  y=6\n",
        "  def f1():\n",
        "    print(\"hello\")\n",
        "t1 = Test() # obj is created -> instance object\n",
        "t2 = Test(6)\n",
        "\n",
        "# Instance and class Object \"Instance objects are empty objects at the time of inception (Creation)\"\n",
        "# __init__(self):-> Take atleast one Arguement.\n",
        "#self.a=4    a-> is the local variable\n",
        "# types of variable as per scope\n",
        "# t1 = Test() __init__() automatically called where internally like this init(t1) is called which is recieved by self\n",
        "# to modify the value of instance object variable\n",
        "# __init__(self,l):\n",
        "#self.a=a\n",
        "\n",
        "\n",
        "\n"
      ],
      "metadata": {
        "id": "uWmkQc6EEXQR"
      },
      "execution_count": null,
      "outputs": []
    },
    {
      "cell_type": "code",
      "source": [],
      "metadata": {
        "id": "eKOsqWE6funK"
      },
      "execution_count": null,
      "outputs": []
    },
    {
      "cell_type": "code",
      "source": [],
      "metadata": {
        "id": "hhRLhDYRfuoy"
      },
      "execution_count": null,
      "outputs": []
    }
  ]
}